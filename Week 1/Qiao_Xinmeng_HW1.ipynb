{
 "cells": [
  {
   "cell_type": "markdown",
   "metadata": {},
   "source": [
    "# Homework 1 (Due Tuesday, March 30th, 2021 at 6:29pm PST)\n",
    "\n",
    "Every day late is -10%.\n",
    "\n",
    "You are a business analyst working for a major US toy retailer:\n",
    "\n",
    "* A manager in the marketing department wants to find out the most frequently used words in positive reviews (five stars) and negative reviews (one star) in order to determine what occasion the toys are purchased for (Christmas, birthdays, and anniversaries.). He would like your opinion on **which gift occasions (Christmas, birthdays, or anniversaries) tend to have the most positive reviews** to focus marketing budget on those days.\n",
    "\n",
    "* There are malformed characters in the review text. For instance, notice the `&#34;` - these are examples of incorrectly decoded [HTML encodings](https://krypted.com/utilities/html-encoding-reference/).\n",
    "```\n",
    "\"amazing quality first of all, these cards are amazing proxies (but don't try to use em in &#34;official duels&#34; unless a judge is okay with it, if you have the real thing to show) and look amazing in your binder!\"\n",
    "```\n",
    "Please clean up all instances of these incorrect decodings.\n",
    "\n",
    "* One of your product managers suspects that **toys purchased for male recipients (husbands, sons, etc.)** tend to be much more likely to be reviewed poorly. She would like to see some data points confirming or rejecting her hypothesis. \n",
    "\n",
    "* Use **regular expressions to parse out all references to recipients and gift occassions**, and account for the possibility that people may spell words \"son\" / \"children\" / \"Christmas\" as both singular and plural, upper or lower-cased.\n",
    "\n",
    "* Explain what some of **pitfalls/limitations** are of using only a word count analysis to make these inferences. What additional research/steps would you need to do to verify your conclusions?\n",
    "\n",
    "* **Create a simple text file that contains 2-3 lines at most describing yourself, your background, and interests. It must contain at least 1 emoji and 4-5 international characters (non-ASCII)**. Make sure to properly encode the file so that I can open it in `UTF-8` to read. I must be able to read all characters properly. Attach it to your submission.\n",
    "\n",
    "Perform the same word count analysis using the reviews received from Amazon to answer your marketing manager's question. They are stored in two files, (`poor_amazon_toy_reviews.txt`) and (`good-amazon-toy-reviews.txt`). **Provide a few sentences with your findings and business recommendations.** Make any assumptions you'd like to- this is a fictitious company after all. I just want you to get into the habit of \"finishing\" your analysis: to avoid delivering technical numbers to a non-technical manager.\n",
    "\n",
    "**Submit everything as a new notebook and Slack direct message to me (Yu Chen) and the TA the HW as an attachment.**\n",
    "\n",
    "**NOTE**: Name the notebook `lastname_firstname_HW1.ipynb`."
   ]
  },
  {
   "cell_type": "code",
   "execution_count": 4,
   "metadata": {},
   "outputs": [],
   "source": [
    "import re"
   ]
  },
  {
   "cell_type": "code",
   "execution_count": null,
   "metadata": {},
   "outputs": [],
   "source": []
  },
  {
   "cell_type": "code",
   "execution_count": null,
   "metadata": {},
   "outputs": [],
   "source": []
  },
  {
   "cell_type": "code",
   "execution_count": 1,
   "metadata": {},
   "outputs": [],
   "source": [
    "text_file_poor = open('poor_amazon_toy_reviews.txt','r')\n",
    "poor_lines = text_file_poor.readlines()\n",
    "\n",
    "text_file_good = open('good_amazon_toy_reviews.txt', 'r')\n",
    "good_lines = text_file_good.readlines()"
   ]
  },
  {
   "cell_type": "code",
   "execution_count": 42,
   "metadata": {},
   "outputs": [],
   "source": [
    "dic = {'Christmas':0, 'birthdays':0,'anniversaries':0}\n",
    "occ_comments = list()\n",
    "for line in good_lines:\n",
    "    if re.search(r'(?i)(Christmas|xmas)', line):\n",
    "        dic['Christmas'] += 1\n",
    "        occ_comments +=[line]\n",
    "    if re.search(r'(?i)(birthday|birth date)', line):\n",
    "        dic['birthdays'] += 1\n",
    "        occ_comments +=[line]\n",
    "    if re.search(r'(?i)(anniversaries|anniversary|Anniv|anniversaire|annual)', line):\n",
    "        dic['anniversaries'] += 1\n",
    "        occ_comments +=[line]"
   ]
  },
  {
   "cell_type": "code",
   "execution_count": 39,
   "metadata": {},
   "outputs": [
    {
     "data": {
      "text/plain": [
       "{'Christmas': 1210, 'birthdays': 3803, 'anniversaries': 72}"
      ]
     },
     "execution_count": 39,
     "metadata": {},
     "output_type": "execute_result"
    }
   ],
   "source": [
    "dic"
   ]
  },
  {
   "cell_type": "code",
   "execution_count": 43,
   "metadata": {},
   "outputs": [],
   "source": [
    "for line in poor_lines:\n",
    "    if re.search(r'(?i)(Christmas|xmas)', line) or re.search(r'(?i)(birthday|birth date)', line) or re.search(r'(?i)(anniversaries|anniversary|Anniv|anniversaire|annual)', line):\n",
    "        occ_comments +=[line]"
   ]
  },
  {
   "cell_type": "markdown",
   "metadata": {},
   "source": [
    "### Answer to question 1\n",
    "From the word count performed above, birthday appears with the highest frequency in the positive review document. "
   ]
  },
  {
   "cell_type": "code",
   "execution_count": 7,
   "metadata": {
    "code_folding": []
   },
   "outputs": [],
   "source": [
    "def match_convert(match):\n",
    "    return chr(int(match.group()[2:-1]))"
   ]
  },
  {
   "cell_type": "code",
   "execution_count": 28,
   "metadata": {
    "scrolled": false
   },
   "outputs": [],
   "source": [
    "regex = re.compile(r'&#[0-9]{2,3};')\n",
    "regex2 = re.compile(r'<br />')\n",
    "good_reviews = []\n",
    "for line in good_lines:\n",
    "    \n",
    "    newline = regex.sub(match_convert,line)\n",
    "    newline = regex2.sub('',newline)\n",
    "    good_reviews+=[newline]\n",
    "    "
   ]
  },
  {
   "cell_type": "code",
   "execution_count": 34,
   "metadata": {},
   "outputs": [],
   "source": [
    "poor_reviews = []\n",
    "\n",
    "for line in poor_lines:\n",
    "    newline = regex.sub(match_convert, line)\n",
    "    newline = regex2.sub('',newline)\n",
    "    poor_reviews += [newline]"
   ]
  },
  {
   "cell_type": "markdown",
   "metadata": {},
   "source": [
    "### Comments for question 2\n",
    "In the above blocks, I have removed the malformed line break tag, and replace the malformed punctuation (including \"&#34\", \"&#60\", etc) byy theirs correct form. I stored the final text in a list "
   ]
  },
  {
   "cell_type": "code",
   "execution_count": null,
   "metadata": {},
   "outputs": [],
   "source": []
  },
  {
   "cell_type": "code",
   "execution_count": 46,
   "metadata": {},
   "outputs": [
    {
     "data": {
      "text/plain": [
       "{'male': 923, 'female': 684}"
      ]
     },
     "execution_count": 46,
     "metadata": {},
     "output_type": "execute_result"
    }
   ],
   "source": [
    "dic2 = {'male':0, 'female':0}\n",
    "recip_comments = list()\n",
    "for line in poor_lines:\n",
    "    if re.search(r'(?i)\\b(son|sons|husband|male|boy|boys|men|brothers|brother|dad|father|grandson)\\b', line):\n",
    "        dic2['male'] += 1\n",
    "        recip_comments += [line]\n",
    "    if re.search(r'(?i)\\b(daughters|daughter|mom|mother|girls|girl|female|sisters|sister|wife|granddaughter)\\b', line):\n",
    "        dic2['female'] += 1\n",
    "        recip_comments += [line]\n",
    "dic2"
   ]
  },
  {
   "cell_type": "code",
   "execution_count": 44,
   "metadata": {},
   "outputs": [],
   "source": [
    "for line in good_lines:\n",
    "    if re.search(r'(?i)\\b(son|sons|husband|male|boy|boys|men|brothers|brother|dad|father|grandpa|grandfather)\\b', line) or re.search(r'(?i)\\b(daughters|daughter|mom|mother|girls|girl|female|sisters|sister|grandma|grandmother|wife)\\b', line):\n",
    "        recip_comments += [line]"
   ]
  },
  {
   "cell_type": "code",
   "execution_count": null,
   "metadata": {},
   "outputs": [],
   "source": []
  },
  {
   "cell_type": "markdown",
   "metadata": {},
   "source": [
    "### Answer to question 3.\n",
    "From the above dictionary, I figured out in the poor reviews, comments containing a male recipent appears more frequently than the comments suggesting a female recipent. Thus, based on this result, I conclud that male recipents tend to give a negative evaluation"
   ]
  },
  {
   "cell_type": "code",
   "execution_count": null,
   "metadata": {},
   "outputs": [],
   "source": []
  },
  {
   "cell_type": "markdown",
   "metadata": {},
   "source": [
    "### Answer to question 4.\n",
    "In my previous steps, I have created two list, one is the commnets containing occassion information (list occ_comments), and the other is comments containing the recipents gender infomration (list recip_comments). Those are the parsed out comments for all references to recipients and gift occassions"
   ]
  },
  {
   "cell_type": "code",
   "execution_count": null,
   "metadata": {},
   "outputs": [],
   "source": []
  },
  {
   "cell_type": "markdown",
   "metadata": {},
   "source": [
    "### Answer to question 5\n",
    "1. the first limiation of using word counts is that it is not possible to know all the word variations. For example, to filter out comments referring male recipents, I have came up with a long list. However, there might still be a lot of other words that can suggest this gift is for a male recipent. Thus, we might underestimate the number.\n",
    "\n",
    "2. However, we might also overestimate the number. Since doing the exact word match doesn't allow us to interpret the meaning of the word in this particular sentence. Sometimes people wrote Christmas, but they weren't referring to the holiday. It is easy to overestimate the number by only doing the word counts.\n",
    "\n",
    "3. For improvement in the furture, we can use more advanced methods, such as tokenazation first and perform a stemming. It will allow use to understand more about the text to avoid those errors. \n"
   ]
  },
  {
   "cell_type": "code",
   "execution_count": null,
   "metadata": {},
   "outputs": [],
   "source": []
  },
  {
   "cell_type": "markdown",
   "metadata": {},
   "source": [
    "### Conclusion\n",
    "From the analysis result, I conclude that birthday tends to have the most positive reviews. And reviews from a male recipents usually have a higher change to be poorly reviewed. I will suggest the company to prioritize the budget on advertising on the birthday gifts collection and toys for girls. "
   ]
  }
 ],
 "metadata": {
  "kernelspec": {
   "display_name": "Python 3",
   "language": "python",
   "name": "python3"
  },
  "language_info": {
   "codemirror_mode": {
    "name": "ipython",
    "version": 3
   },
   "file_extension": ".py",
   "mimetype": "text/x-python",
   "name": "python",
   "nbconvert_exporter": "python",
   "pygments_lexer": "ipython3",
   "version": "3.8.3"
  },
  "varInspector": {
   "cols": {
    "lenName": 16,
    "lenType": 16,
    "lenVar": 40
   },
   "kernels_config": {
    "python": {
     "delete_cmd_postfix": "",
     "delete_cmd_prefix": "del ",
     "library": "var_list.py",
     "varRefreshCmd": "print(var_dic_list())"
    },
    "r": {
     "delete_cmd_postfix": ") ",
     "delete_cmd_prefix": "rm(",
     "library": "var_list.r",
     "varRefreshCmd": "cat(var_dic_list()) "
    }
   },
   "types_to_exclude": [
    "module",
    "function",
    "builtin_function_or_method",
    "instance",
    "_Feature"
   ],
   "window_display": false
  }
 },
 "nbformat": 4,
 "nbformat_minor": 4
}
