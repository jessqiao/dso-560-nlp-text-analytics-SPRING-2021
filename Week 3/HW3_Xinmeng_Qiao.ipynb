{
 "cells": [
  {
   "cell_type": "markdown",
   "metadata": {},
   "source": [
    "# HW3\n",
    "\n",
    "Submit via Slack. Due on Tuesday, April 13th, 2020, 6:29pm PST. You may work with one other person.\n",
    "\n",
    "## TF-IDF\n",
    "\n",
    "You are an analyst working at McDonalds as a store operations analyst, and charged with identifying areas for improvement for each franchise. Several metropolitan locations have been suffering recently from lower reviews.\n",
    "\n",
    "Using the **mcdonalds-yelp-negative-reviews.csv** dataset, clean and parse the text reviews. Explain the decisions you make:\n",
    "- why remove/keep stopwords?\n",
    "- which stopwords to remove?\n",
    "- stemming versus lemmatization?\n",
    "- regex cleaning and substitution?\n",
    "- adding in custom stopwords?\n",
    "- what `n` for your `n-grams`?\n",
    "- which words to collocate together?\n",
    "\n",
    "Finally, generate a TF-IDF report that either **visualizes** or explains for a business (non-technical) stakeholder:\n",
    "* the features your analysis showed that customers cited as reasons for a poor review\n",
    "* the most common issues identified from your analysis that generated customer dissatisfaction.\n",
    "\n",
    "Explain to what degree the TF-IDF findings make sense - what are its limitations?\n",
    "\n"
   ]
  },
  {
   "cell_type": "code",
   "execution_count": 1,
   "metadata": {},
   "outputs": [],
   "source": [
    "import re\n",
    "from nltk.corpus import stopwords\n",
    "from nltk.tokenize import word_tokenize\n",
    "from nltk.stem import WordNetLemmatizer\n",
    "from sklearn.feature_extraction.text import TfidfVectorizer\n",
    "from nltk.collocations import BigramCollocationFinder, BigramAssocMeasures\n",
    "import pandas as pd"
   ]
  },
  {
   "cell_type": "code",
   "execution_count": 2,
   "metadata": {},
   "outputs": [],
   "source": [
    "# functions \n",
    "\n",
    "def word_count(lst):\n",
    "    d = {}\n",
    "    for line in lst:\n",
    "        for word in line.split():\n",
    "            d[word] = d.get(word,0) + 1\n",
    "    return d\n",
    "\n",
    "\n",
    "def remove_stopwords(lst, stopword_set):\n",
    "    cleaned = []\n",
    "    for line in lst:\n",
    "        newline = []\n",
    "        for word in line.split():\n",
    "            if word.lower() in stopword_set:\n",
    "                continue\n",
    "            else:\n",
    "                newline.append(word.lower())\n",
    "        review = ' '.join(newline)\n",
    "        cleaned.append(review)\n",
    "    return cleaned\n",
    "\n",
    "\n",
    "# lemmatized\n",
    "def lemmatize_word(lst):\n",
    "    lemma = WordNetLemmatizer()\n",
    "    lemmatized = []\n",
    "    for line in lst:\n",
    "        new_line = []\n",
    "        for word in line.split():\n",
    "            new_word = lemma.lemmatize(word)\n",
    "            new_line.append(new_word)\n",
    "        sen = ' '.join(new_line)\n",
    "        lemmatized.append(sen)\n",
    "    return lemmatized\n",
    "\n",
    "def replace_bigram_word(sentence):\n",
    "    token_sentence = word_tokenize(sentence)\n",
    "    for index, word in enumerate(token_sentence):\n",
    "        combo = f'{token_sentence[index-1]}_{word}'\n",
    "        if combo in top20_list:\n",
    "            token_sentence[index-1] = combo\n",
    "            token_sentence.pop(index)\n",
    "    return(' '.join(token_sentence))"
   ]
  },
  {
   "cell_type": "code",
   "execution_count": 3,
   "metadata": {},
   "outputs": [],
   "source": [
    "# Open and read the yelp reviews\n",
    "reviews = pd.read_csv('mcdonalds-yelp-negative-reviews.csv', encoding='latin1')\n",
    "lines = reviews['review'].tolist()\n"
   ]
  },
  {
   "cell_type": "code",
   "execution_count": 4,
   "metadata": {},
   "outputs": [],
   "source": [
    "# Remove punctuation and the ID of each reviews using regex\n",
    "regex = re.compile(r'[^\\w\\s\\'\\:]')\n",
    "regex_digit = re.compile(r'\\b\\d{5,}\\b')\n",
    "\n",
    "lst = []\n",
    "for line in lines:\n",
    "    new_line = regex.sub(' ',line)\n",
    "    new_line = regex_digit.sub('',new_line)\n",
    "    lst.append(new_line)"
   ]
  },
  {
   "cell_type": "code",
   "execution_count": 5,
   "metadata": {},
   "outputs": [],
   "source": [
    "# Remove stopwords using customized stopword set\n",
    "stopword_set = set(stopwords.words('english'))\n",
    "added = ['mcdonald\\'s','mcdonalds','mcdonald','mcds','mcd\\'s','i\\'m','i\\'ve',\\\n",
    "         'really','also','even','always','sometimes','right','every','going',\\\n",
    "         'aaaaaaaahhhhhhhhhhh','','yet','oh']\n",
    "\n",
    "stopword_set.update(added)\n",
    "stopword_set.difference_update({'not', \"aren't\", \"couldn't\",\n",
    "                                \"didn't\", \"doesn't\", \"don't\", \n",
    "                                \"hasn't\", \"wouldn't\", \"shouldn't\"})\n",
    "\n",
    "cleanned_lst = remove_stopwords(lst, stopword_set)"
   ]
  },
  {
   "cell_type": "code",
   "execution_count": 6,
   "metadata": {},
   "outputs": [],
   "source": [
    "# Lemmatize the sentence\n",
    "final_lst = lemmatize_word(cleanned_lst)"
   ]
  },
  {
   "cell_type": "code",
   "execution_count": 7,
   "metadata": {},
   "outputs": [],
   "source": [
    "# Replace Collocation Bigrams\n",
    "all_words = [r.split() for r in final_lst]\n",
    "collo = BigramCollocationFinder.from_documents(all_words)\n",
    "measures = BigramAssocMeasures()\n",
    "top20_bigrams = collo.nbest(measures.raw_freq,20)\n",
    "top20_list = []\n",
    "for combo in top20_bigrams:\n",
    "    top20_list.append(f'{combo[0]}_{combo[1]}')"
   ]
  },
  {
   "cell_type": "code",
   "execution_count": 8,
   "metadata": {},
   "outputs": [],
   "source": [
    "collo_final_lst = [replace_bigram_word(r) for r in final_lst]"
   ]
  },
  {
   "cell_type": "code",
   "execution_count": 9,
   "metadata": {},
   "outputs": [],
   "source": [
    "# Calculate TF-IFD for each document try bigram first\n",
    "vectorizer = TfidfVectorizer(ngram_range=(2,2),\n",
    "                             max_df=0.2)\n",
    "\n",
    "X = vectorizer.fit_transform(final_lst)\n",
    "features = vectorizer.get_feature_names()\n",
    "tf_idf = pd.DataFrame(X.toarray().transpose(), index=features)\n",
    "\n",
    "tf_idf = tf_idf.sum(axis=1)\n",
    "score = pd.DataFrame(tf_idf, columns = ['score'])\n",
    "score.sort_values(by = 'score', inplace=True, ascending=False)"
   ]
  },
  {
   "cell_type": "code",
   "execution_count": 10,
   "metadata": {},
   "outputs": [
    {
     "data": {
      "text/plain": [
       "<matplotlib.axes._subplots.AxesSubplot at 0x7faf7ca94d00>"
      ]
     },
     "execution_count": 10,
     "metadata": {},
     "output_type": "execute_result"
    },
    {
     "data": {
      "image/png": "[encoded data removed]",
      "text/plain": [
       "<Figure size 1440x360 with 1 Axes>"
      ]
     },
     "metadata": {
      "needs_background": "light"
     },
     "output_type": "display_data"
    }
   ],
   "source": [
    "#TF-IDF report (bi-gram)\n",
    "score.iloc[:30].plot(kind='bar',figsize =(20,5), rot=45)"
   ]
  },
  {
   "cell_type": "code",
   "execution_count": 11,
   "metadata": {},
   "outputs": [],
   "source": [
    "# Calculate TF-IFD for each document trigrams\n",
    "vectorizer = TfidfVectorizer(ngram_range=(3,3),\n",
    "                             max_df=0.2)\n",
    "\n",
    "X = vectorizer.fit_transform(final_lst)\n",
    "features = vectorizer.get_feature_names()\n",
    "tf_idf = pd.DataFrame(X.toarray().transpose(), index=features)\n",
    "\n",
    "tf_idf = tf_idf.sum(axis=1)\n",
    "score = pd.DataFrame(tf_idf, columns = ['score'])\n",
    "score.sort_values(by = 'score', inplace=True, ascending=False)"
   ]
  },
  {
   "cell_type": "code",
   "execution_count": 12,
   "metadata": {
    "scrolled": true
   },
   "outputs": [
    {
     "data": {
      "text/plain": [
       "<matplotlib.axes._subplots.AxesSubplot at 0x7faf7cec6400>"
      ]
     },
     "execution_count": 12,
     "metadata": {},
     "output_type": "execute_result"
    },
    {
     "data": {
      "image/png": "[encoded data removed]",
      "text/plain": [
       "<Figure size 1440x360 with 1 Axes>"
      ]
     },
     "metadata": {
      "needs_background": "light"
     },
     "output_type": "display_data"
    }
   ],
   "source": [
    "#TF-IDF report (tri-grams)\n",
    "score.iloc[1:30].plot(kind='bar',figsize =(20,5), rot=45)"
   ]
  },
  {
   "cell_type": "code",
   "execution_count": null,
   "metadata": {},
   "outputs": [],
   "source": []
  },
  {
   "cell_type": "code",
   "execution_count": 13,
   "metadata": {},
   "outputs": [
    {
     "data": {
      "text/plain": [
       "['My order was fresh and prepared correctly  They were friendly and moved the drive thru line quickly during the lunch rush  Very good ',\n",
       " \"Years of pathetic service  disgusting food  and dangerous mistakes  Why do I keep going back Having nothing to do with Mcdonalds food in general and more to do with the ability of this specific location to produce it with out killing anybody  I have been going to this particular store for years  It is right around the corner from where I used to live  and is on the way from where I live to pretty much everything I use  gas station  costco  movie theater  market  etc   It is the only convenient location  and for a while Mcdonalds was the only place that had  1 drinks  So those are my lame excuses for repeatedly torturing myself with this horrible place  Service: I used to be a manager with another fast food chain  I know what service SHOULD be  I also know what it usually is  It doesn't have to be 5 star  But the rude attitudes  ridiculously slow service  and inability to get a single order right is really a bit too much  When I say slow service  I am talking 15 minutes is average drive thru time for a dollar menu burger and a soda  Correct orders: Yes  my order can occasionally be complicated  no castup  add big mac sauce     but when I thought they could do no worse    they messed up an order for 4 large drinks  2 diet cokes  a lemonade  and an unsweet iced tea  all with extra ice   We received a regular coke  a lemonade  a Dr  Pepper  and a sweet iced tea  2 drinks had no ice at all  and the other 2 had a few pieces floating around  We have never received a correct order from this store  EVER  I could go on and on about it  but I will stick with this sad example and move on Dangerous disgusting incorrectly made: Something a little different then an order where they put the wrong thing in the bag or mess up a custom  is when they just make it incorrectly or dangerously  Some of the examples of this include pies that expired an hour before I received them  an egg that was completely raw in the middle  and tonights lovely mess up  Tonight I ordered the Angus Mushroom and Swiss  According to the website this should include 2 full slices of swiss cheese and a decent amount of mushrooms  I had about a teaspoon of mushrooms  no sauce  and 1 2 a slice of cheese  That is right  they left off a slice and a half of cheese  In addition  it was a regular  and relatively old  quarter pound patty  not the big ole angus patty they should have used  I have called the number on the receipt multiple times that takes me to the district office  They consistently send out a free sandwich or drink coupon to apologize  They tell me how sorry they are and suggest I try one of their other locations  as this is the only one they receive complaints from  From what I was told they are revamping this store  but I have been told that for well over a year  and it seems to have been unvamped and going down hill  which I didn't think was even possible  I keep vowing this will be my last visit  but then find myself sitting in the drive thru line yet again wondering if I will ever receive my food  I highly do not recommend this location  Hopefully you won't be lured in by whatever the heck keeps luring me   Sarah  This was written by Paul's wife because I am usually the one dealing with them  I guess he got smarter  \",\n",
       " \"I kinda wish there were negative stars  This McDonald's charged my card the wrong amount  And didn't tell me anything until I looked at my account and went back  they said my money will be returned to my account within hours  Now 3 days later my money is still not in my account  Also  I've been to other McDonald's with long drive thru lines but they are moving at an okay pace  This McDonald's drive thru lines are the slowest I've been in \",\n",
       " 'The drive thru line is always so long  They only have ice cream about 50  of the time ',\n",
       " \"As a whole this is a much nicer McD's then most I've seen and the quality seems to be pretty consistent Cons:   CAUTION   read this That said  the area is surrounded by government apartments and a guy was parked outside of this McD's last week and stupidly had his windows down and parked while writing a text msg on his cell when a guy put a GUN to his face and made him drive home only to rob him  Fortunately he was not harmed other than his pride Moral of the story: be aware of your surroundings and keep your windows up and doors locked even in the drive thru line \",\n",
       " \"If there was an option for a negative rating  that's what this place would get  Not only worst mcdonalds experience  but worst fast food experience I've ever had  At this point been in the drive thru line 23 mins   after taking my order   credit card told it'd be another 5 10 mins  Cars behind me gave their orders when I was told to go to the window to give mine because the registers weren't working  Person behind me drove right off with their order while I'm waiting for an order for one  Was not even told my total at the window  Doesn't have friendly workers working the drive thru  This new mcdonalds needs to get some advice from other locations on how to run a business   hire new staff \",\n",
       " \"Just a regular McDonald's   Nothing too out of the ordinary  average workers and average service  It's always busy in the mornings  The drive thru line most of the time is literally leading out of the parking lot \",\n",
       " \"Ok  I don't go here that much   I was reading your review while waiting in the drive thru line  All I ordered was 50 chicken nuggets  and 1 of every sauce  I knew it was impossible for them to mess this up   and it was only  9 99 woo hoo   I was told to wait a few minutes  They brought out the nuggets  Wasn't until I got home that I realized I got NO sauces   :   Ended up making my own honey mustard sauce Anyway the place has free Wifi  but no plugs to power laptops \",\n",
       " \"This review is based on the poor service I received in the drive thru last night  I have nothing to say about the food because it's McDonald's    I had a horrible headache and a long drive back from The Woodlands so I just decided to swing through the drive thru to grab some food hoping it would help my headache  There were two cars in front of me when I pulled into the line  One car was at the pick up window  the other was at the intercom to order  It didn't take long for the car in front of me to order  When it was my turn  I literally sat there for 3 minutes without anyone acknowledging me  Usually if the employees are slow  they will at least say hello and then ask for a moment to help other customers  I was about to yell into the intercom to make sure they were in fact open  People were pulling up behind me and I was losing my patience  Finally some lady came on the intercom and said  What can I get you   As if they were the ones waiting on me to decide  I could hear a lot of noise in the background  sounded chaotic   I asked for a grilled chicken wrap  She responded with  We don't have grilled meat  wait yeah ok grilled what else   Then I asked for Sprite   We're out of Sprite   Ok please give me unsweet ice tea   OK Sweet tea   At that point  my headache was so bad I didn't even try to ask for the frickin unsweet tea  Then she told me to drive forward without telling me a total  As I'm waiting to pay and get my food  I see at least two cars leave the drive thru line because they're fed up with the poor service  When I got to the window  the lady even made a comment about it  Ooooh look at all those cars leaving   I'm sorry  but if you are aware that you are losing customers  maybe you should step it up a little bit and get your shit together so you don't lose customers  She couldn't have cared less  It was pathetic Luckily I don't live in that area  so I'm hoping to never have to experience such slow  horrible service in a drive thru  This was by far  one of the worst experiences I've ever had \",\n",
       " \"I normally try to hit up this location when I'm at the Sam's gas station across the parking  Unfortunately  I normally stop for gas in the morning and this location is a nightmare at that hour  The drive thru line is wrapped around the building and the line in the lobby is packed  I'm sure how you address these issues without completely remodeling the restaurant to re orient the driveway and open up a double driveway I was here the other day for a Redbox movie and got a drink   the staff is normally pretty courteous but that drive thru issue really brings down their rating in my mind \",\n",
       " \"Stopped here one day because I had witnessed about five men standing at a four way stop asking for food and this was the fastest and closest establishment to me I should have gone somewhere else  PRO:    Two stars for the sweet high schooler who took my order  He was very patient with me deciding on what all I needed to get and very kind CON:    It's June in Texas and you know what that means    HEAT  Oh  who am I kidding  it's always hot but on June 8th  it was a little bit hotter  After waiting close to 15 minutes in the drive thru line I decided to get the homeless men some sundaes but to my surprise  as soon as I ordered them  the high schooler tells me they are out of ice cream   Out of ice cream   What   Long story short  I ended up getting them an array of burgers  Mickey D's golden  crispy fries and some drinks  I really wanted to buy them ice cream  Get it together McDonald's   it wasn't even  technically  summer yet and you were out of ice cream before noon  Pssh \",\n",
       " \"My son wanted some chicken nuggets so we stopped by this McDonald's at 8:30 PM last nigh  Friday   The drive thru line had about six or seven cars so I decided to go in and order to save some time  Guess what  there were still customers inside and the doors were locked  After knocking on the doors  a man from inside told me that the dinning room is closed and ask me to use the drive thru window  Are you kidding me  Dinning room closed at 8:30 PM  Needless to say  we left without even ordering \",\n",
       " 'This review is for the DRIVE THRU ONLY   Just like any other McDonalds  except this place has TWO drive thru lines  Makes the line go by faster  HOORAY  Whenever I stop by for breakfast the workers are friendly and fast Last time i was here i spilled my sweet tea in the car and the girl at the window gave me a new one  Second time this happens to me :  the first time it was at a different McDonalds  the guy at the register said i needed to pay for another one  _  even after seeing how wet my pants were Overall this place is fast and friendly  I havent been inside yet  but from the reviews this place is scary lol  It McDonalds people  not Olive Garden',\n",
       " 'Got into the drive thru line shortly after midnight on Saturday evening  so technically it was 2 15 15 Sunday  Five cars in line ahead of me  Order took almost 30 minutes  It was ridiculous  And instead of offering some kind of coupon or free item  they are trying to upsell everyone in line an apple pie  No clue of concept about how to take care of or treat customers  In short will not return to this McDonalds  Avoid at all costs ',\n",
       " \"McDonalds is usually very prompt with servicing your orders  however  it took about 20 minutes to go through the drive thru line tonight at 8pm  It should not take 20 minutes to get fast food  My friend and I ordered fries  a double cheeseburger  and a McDouble  Definitely one of the slowest drive thrus I've experienced but perhaps it was just an off day for them  This McDonalds is also very close to downtown Highland Park  so you can grab a bite to eat at McDonalds and then head to the YOrk or Hermosillo down the road for some drinks It's located in a quiet neighborhood with not a whole lot of traffic  Can't complain about that \",\n",
       " \"So  I waited 15 minutes in the drive thru to place an order for a large iced coffee  The menu board thingy shows a  2 19 price  but the computer screen displaying the order shows a  2 29 price  After another 5 minute wait  I finally get to the pay window and bring up the price to the cashier dude  He says no one has ever mentioned a price discrepancy  my word  not his  and implies that I am lying or mistaken  He says  2 29 is the price and there is no way around it  Say what there now  So I pull out of the drive thru line  park my car  WALK back to the menu board thingy  and take a picture of the  2 19 advertised price for a large iced coffee  I go inside and speak with Victor the manager about the price issue and the long wait  He doesn't believe me about the price  despite the picture  and goes to check it himself  When he returns  he says the girl who changes the menu board thingy isn't in yet  I tell him that's an operational issue that has nothing to do with me  He tries again  telling me  2 29 is the price because that's what the computer says  I remind  or perhaps inform  him that false advertising is against the law  He doesn't seem to care  I press on  yes foolishly  about the price discrepancy  the hassle of getting out of my car to deal with it  the long wait  and the fact that NO ONE has offered an apology  I could see I was going nowhere  so finally I ask for his name and store information so I can file a complaint  Then he mutters a half baked  sorry   slides a dime across the counter to me  and walks away  Thank you universe for the reminder that you get what you pay for  How dare I expect anything other than this kind of service from a fast food place \",\n",
       " \"ASK FOR CONDIMENTS  STRAWS AND NAPKINS    On Sunday mornings the drive thru line is extremely long and the inside looks to be completely packed  If my mom didn't ask to go here for breakfast as we were driving by I would have left  We ordered 2 breakfast deluxe  2 coffees and an orange juice through the drive thru  Good thing my moms friend asked for ketchup  'cause in the bag there wasn't any syrup  butter  or jelly for them to eat their pancakes with   I also didn't get a straw for my orange juice  Ohh  and there weren't any napkins in the bag either    Surprisingly they didn't forget the forks  We were in a hurry and going back to ask for what we expected in our bag would have been a waste of time \",\n",
       " \"Can't expect much from a McDonald's but this is one of the worst I've been to  The employees are rude  they always get your orders wrong and then have an attitude when they have to fix it  Freshness is an issue as well  Wait time in the drive thru isn't too bad  but don't make the mistake of seeing a long drive thru line and go inside  Even if you're the only person in the restaurant  it will take forever because they help all the people in the drive thru first  Don't bother complaining to corporate  it's forwarded to the franchise owner and the rep for them could care less \"]"
      ]
     },
     "execution_count": 13,
     "metadata": {},
     "output_type": "execute_result"
    }
   ],
   "source": [
    "# Example analysis on frequent phases 1\n",
    "res = []\n",
    "\n",
    "for line in lst:\n",
    "    if 'drive thru line' in line:\n",
    "        res.append(line)\n",
    "res"
   ]
  },
  {
   "cell_type": "code",
   "execution_count": 14,
   "metadata": {
    "scrolled": true
   },
   "outputs": [
    {
     "data": {
      "text/plain": [
       "[\"The ice cream machine is always  down  after 11 p m  If you want a hot fudge sundae  don't even bother \",\n",
       " \"This is the worst McDonald's I have ever been to Yes  there ARE better McD's out there  Like the one on Boulder Highway by Joker's Wild  right before you hit Warm Springs I have visited the last two nights here    Because I was picking up a friend of mine who got off from work  and we had a sweet tooth     along with my family members at the house Yesterday  we pull up and ask for hot fudge sundaes  Ice cream machine is out Instead  we get two large sweet teas     Which were overly sweet  Almost   gave off a syrup feel after I swallowed Tonight  the ice cream machine IS working  so I get two sundaes  and of course  two large sweet teas Sundaes look sad  because they are not in their proper clear plastic cup   they are instead in mini McFlurry cups     not even filled completely  might I add  My friend and I take one sip of our sweet teas    and they taste like dirty water It's almost like they were trying to trick us     Like  they didn't have enough tea  so they filled 3 4 of the cup with water     Seriously  if I wanted the taste of unfiltered water  I would just pick up a hose out of someone's back yard  The women who work here  hate their lives  I mean  they are just wretched One of the cars parked by the drive thru was     vandalized with shaving cream  and what appeared to be eggs    Can't say I blame the perpitrator when these ladies can't even pour a glass of tea       I don't condone it  but hey  some people are crazy about their food \",\n",
       " \"Every time I go their ice cream machine is down  It's a hang out for all the kids in the neighborhood  This establishment including terribles chevron connected to it  does not seem to care what goes on in or around their business  Low class for the area they are in \",\n",
       " \"This place is a joke  It's disgusting enough of a fact that the only thing to eat at Excalibur between the hours of 0200 and 0600 is McDonald's  Starbucks  and Krispy Kreme  But then  to be forced to go to McDonald's and find this pitiful excuse of an establishment instead     for shame  The first night they ran out of Butterfinger topping for a McFlurry  The second night  they claimed their ice cream machine was  locked   Not broken     but locked  WTF is that     If you are the only late night eatery available  you better have all your menu items available because I have a bit of a sweet tooth  This place is a joke    do yourself a favor and walk across the footbridge to New York New York and eat at America  their late night cafe \",\n",
       " \"Couldn't get a chocolate dipped cone because they shut off the ice cream machine at midnight  WTF  \",\n",
       " \"This is the McDonald's that my friends and I always go to since it's the closest to our apartment but at the same time  it's definitely the WORST one I've ever been to One plus is that their drive thru is open 24 hours but sadly  the later at night you go  the more often your choices are limited  For example  one day we were craving their vanilla cone but they said that their ice cream machine was off already so they couldn't make it  Okay  What's the point of staying open 24 hours if you can't even give the customers the food they want  The other day  I had a pretty bad dine in experience  The lady behind the counter charged extra for big mac sauce on the McDouble which I have NEVER experienced before  Usually going through drive thru  they never charge extra for a McDouble w o the ketchup  w  big mac sauce and shredded lettuce  a k a a Big Mac  but cheaper    My boyfriend and I were pretty shocked when she told us we had to pay extra for the sauce and she claimed that they always do this which they really NEVER DO  Then  this same lady proceeded to close the cash register before giving me my change  She told me to wait on the side so she can give it to me after she opens it for the next customer  So I patiently waited    and then she closed the cash register AGAIN after the next customer and totally forgot to give me my change     So I had to remind her again to which she just laughed and semi apologized and then finally gave me my change after like a decade of waiting  ARGH  Worst McDonalds worker ever   Completely rude and horrible customer service skills  I totally agree with my boyfriend who said this McDonalds is very poorly managed  He even wrote a complaint to them a while back but they never responded   We love to see you smile   I beg to differ \",\n",
       " \"I have never in my life wrote a corporation to complain about the business until this McDonalds  I am there everyday with the same coffee order and everyday they get it wrong  You would think after going there everyday for months you would think they would know the order by now but apparently they are stoned or something  Also  more than once I have attempted to order ice cream after nine at night and they tell me the 'ice cream machine is broken' because they are too lazy to fill it up  It is a credit to the McDonald's corporation that they actually responded to the complaint letter and said they would fix it the next day still the wrong coffee order \"]"
      ]
     },
     "execution_count": 14,
     "metadata": {},
     "output_type": "execute_result"
    }
   ],
   "source": [
    "# Example analysis on frequent phases 2\n",
    "res = []\n",
    "\n",
    "for line in lst:\n",
    "    if 'ice cream machine' in line:\n",
    "        res.append(line)\n",
    "res"
   ]
  },
  {
   "cell_type": "markdown",
   "metadata": {},
   "source": [
    "### Conclusion for Q1\n"
   ]
  },
  {
   "cell_type": "markdown",
   "metadata": {},
   "source": [
    "Using the **mcdonalds-yelp-negative-reviews.csv** dataset, clean and parse the text reviews. Explain the decisions you make:\n",
    "- why remove/keep stopwords?\n",
    "- which stopwords to remove?\n",
    "- stemming versus lemmatization?\n",
    "- regex cleaning and substitution?\n",
    "- adding in custom stopwords?\n",
    "- what `n` for your `n-grams`?\n",
    "- which words to collocate together?\n",
    "\n",
    "Finally, generate a TF-IDF report that either **visualizes** or explains for a business (non-technical) stakeholder:\n",
    "* the features your analysis showed that customers cited as reasons for a poor review\n",
    "* the most common issues identified from your analysis that generated customer dissatisfaction.\n",
    "\n",
    "Explain to what degree the TF-IDF findings make sense - what are its limitations?"
   ]
  },
  {
   "cell_type": "markdown",
   "metadata": {},
   "source": [
    "First, I will explain the decisions I made when cleanning this reviews dataset. \n",
    "\n",
    "I removed all the punctuation at the beginning of the process, except \"'\" and \":\". I decide to keep these two punctuations because they usually denote a negation word or time, which can be useful for our analysis. I also removed words with only digits longer than 5 digits, because those numbers usually don't have any meaning. \n",
    "\n",
    "Then, I remove stopwords. Even though removing stopwords might introduce some weird combination when using N grams, but it can reduce the dimensinality of the dataset by eliminating the phases that contains stopwords. I customize the stopword set by adding additional stopwords such as \"mcdonalds\", \"always\", \"sometimes\", and etc.. Those words won't affect the meaning of the sentences. At the same time, I eliminate negation words such as \"not\" and \"shouldn't\" from the set, because when performing tri-grams, I don't want the meaning of the trigrams changed.\n",
    "\n",
    "In this analysis, I chose lemmatization over stemming, because lemmatization can keep the meaning of the words. Since we would like to know what is the major reasons that people critize Mcdonalds, using lemmatization can help us to understand the sentence better.\n",
    "\n",
    "I tried both bi and tri grams. According to the result that I got, tri-grams provide more infomation that we want. So I will conclude that trigrams has a better performance on this dataset. \n",
    "\n",
    "The word \"drive\" and \"thru\" are most frequently collocate together.\n",
    "\n",
    "Next, I will talk about the findings obtained from this excercise. \n",
    "\n",
    "The TF-IDF report for trigrams returns phrases such as \"drive thru line\", \"ice cream machine\", \"get order wrong\" as the phrase with highest scores. The phrase \"get order wrong\" is pretty intuitive, it suggest that one major reason lead to negative reviews is that Mcdonalds often messes up with the orders. For the other phrases, I extracted all the reviews contains the phrase \"drive thru line\" and \"ice cream machine\", and manually reviewed them. The problem with drive-thru is that the waiting time is usually long, and again, customers tend to get wrong orders. Thus, another problem that Mcdonald's need to pay attention to is shortening the waiting time for customers. For \"ice cream machine\", some of the reviews suggests that the ice cream machines are shut down when they want to order. Mcdonalds should also focus on the avaiablity of the machines. \n",
    "\n",
    "Finally, I will talk about the advantages and limitation of TF-IDF\n",
    "\n",
    "Comparing to word count analysis we did previously, using trigrams TF-IDF provides more insights of the dataset. It allows us to capture the most meaningful phrases. Comparsing to single words, phrases usually are more easy to interpret. TF-IDF also helped us to reduce the effects introduced by stopwords by normalizing the TF score using the IDF, because we are not able to remove all the stopwords. \n",
    "\n",
    "However, there are still some limitation from using the TF-IDF method. As we can tell from the results. In top 20 list, some phrase still cannot tell us the reason why it indicate bad reviews. For example, the phrase \"open 24 hours\". Even though the TF-IDF score is very high, it cannot tell us directly why this phrase is related to our topic. Another limiation is that TF-IDF cannot tell the semantic similarity between the phrases in different reviews. Let's take \"ice cream\" as an example. When people use this phrase in their review, they can mean different things. One person may suggesting that he is unsatisfied about to the food, while the other is talking about the machine is not working. Thuse, we might need to conduct futher analysis on the dataset using other techniques."
   ]
  },
  {
   "cell_type": "code",
   "execution_count": null,
   "metadata": {},
   "outputs": [],
   "source": []
  },
  {
   "cell_type": "markdown",
   "metadata": {},
   "source": [
    "\n",
    "## Product Attribution (Feature Engineering and Regex Practice)\n",
    "Download the [dataset](https://dso-560-nlp-text-analytics.s3.amazonaws.com/truncated_catalog.csv) from the class S3 bucket (`dso560-nlp-text-analytics`).\n",
    "\n",
    "In preparation for the group project, our client company has provided a dataset of women's clothing products they are considering cataloging. \n",
    "\n",
    "1. Filter for only **women's clothing items**.\n",
    "\n",
    "2. For each clothing item:\n",
    "\n",
    "* Identify its **category**:\n",
    "```\n",
    "Bottom\n",
    "One Piece\n",
    "Shoe\n",
    "Handbag\n",
    "Scarf\n",
    "```\n",
    "* Identify its **color**:\n",
    "```\n",
    "Beige\n",
    "Black\n",
    "Blue\n",
    "Brown\n",
    "Burgundy\n",
    "Gold\n",
    "Gray\n",
    "Green\n",
    "Multi \n",
    "Navy\n",
    "Neutral\n",
    "Orange\n",
    "Pinks\n",
    "Purple\n",
    "Red\n",
    "Silver\n",
    "Teal\n",
    "White\n",
    "Yellow\n",
    "```\n",
    "\n",
    "Your output will be the same dataset, except with **3 additional fields**:\n",
    "* `is_womens_clothing`\n",
    "* `product_category`\n",
    "* `colors`\n",
    "\n",
    "`colors` should be a list of colors, since it is possible for a piece of clothing to have multiple colors."
   ]
  },
  {
   "cell_type": "code",
   "execution_count": 15,
   "metadata": {
    "scrolled": true
   },
   "outputs": [],
   "source": [
    "df = pd.read_csv('truncated_catalog.csv')"
   ]
  },
  {
   "cell_type": "code",
   "execution_count": 16,
   "metadata": {
    "scrolled": false
   },
   "outputs": [
    {
     "data": {
      "text/html": [
       "<div>\n",
       "<style scoped>\n",
       "    .dataframe tbody tr th:only-of-type {\n",
       "        vertical-align: middle;\n",
       "    }\n",
       "\n",
       "    .dataframe tbody tr th {\n",
       "        vertical-align: top;\n",
       "    }\n",
       "\n",
       "    .dataframe thead th {\n",
       "        text-align: right;\n",
       "    }\n",
       "</style>\n",
       "<table border=\"1\" class=\"dataframe\">\n",
       "  <thead>\n",
       "    <tr style=\"text-align: right;\">\n",
       "      <th></th>\n",
       "      <th>brand</th>\n",
       "      <th>name</th>\n",
       "      <th>description</th>\n",
       "      <th>brand_category</th>\n",
       "      <th>brand_canonical_url</th>\n",
       "      <th>details</th>\n",
       "      <th>tsv</th>\n",
       "    </tr>\n",
       "  </thead>\n",
       "  <tbody>\n",
       "    <tr>\n",
       "      <th>0</th>\n",
       "      <td>FILA</td>\n",
       "      <td>Original Fitness Sneakers</td>\n",
       "      <td>Vintage Fitness leather sneakers with logo pri...</td>\n",
       "      <td>TheMensStore/Shoes/Sneakers/LowTop</td>\n",
       "      <td>https://www.saksfifthavenue.com/fila-original-...</td>\n",
       "      <td>Leather/synthetic upper\\nLace-up closure\\nText...</td>\n",
       "      <td>'design':12 'fila':1A 'fit':3A,6 'leather':7 '...</td>\n",
       "    </tr>\n",
       "    <tr>\n",
       "      <th>1</th>\n",
       "      <td>CHANEL</td>\n",
       "      <td>HAT</td>\n",
       "      <td>NaN</td>\n",
       "      <td>Unknown</td>\n",
       "      <td>https://www.saksfifthavenue.com/chanel-hat/pro...</td>\n",
       "      <td>WOOL TWEED &amp; FELT</td>\n",
       "      <td>'chanel':1A 'hat':2A</td>\n",
       "    </tr>\n",
       "    <tr>\n",
       "      <th>2</th>\n",
       "      <td>Frame</td>\n",
       "      <td>Petit Oval Buckle Belt</td>\n",
       "      <td>A Timeless Leather Belt Crafted From Smooth Co...</td>\n",
       "      <td>Accessories</td>\n",
       "      <td>https://frame-store.com/products/petit-oval-bu...</td>\n",
       "      <td>NaN</td>\n",
       "      <td>'belt':5A,9 'buckl':4A,21 'cowhid':13 'craft':...</td>\n",
       "    </tr>\n",
       "    <tr>\n",
       "      <th>3</th>\n",
       "      <td>Lilly Pulitzer Kids</td>\n",
       "      <td>Little Gir's &amp; Girl's Ariana One-Piece UPF 50+...</td>\n",
       "      <td>Pretty ruffle sleeves and trim elevate essenti...</td>\n",
       "      <td>JustKids/Girls214/Girls/SwimwearCoverups,JustK...</td>\n",
       "      <td>https://www.saksfifthavenue.com/lilly-pulitzer...</td>\n",
       "      <td>Scoopneck\\nAdjustable straps\\nFlutter sleeves\\...</td>\n",
       "      <td>'50':14A 'allov':28 'ariana':9A 'color':27 'el...</td>\n",
       "    </tr>\n",
       "    <tr>\n",
       "      <th>4</th>\n",
       "      <td>Kissy Kissy</td>\n",
       "      <td>Baby Girl's Endearing Elephants Pima Cotton Co...</td>\n",
       "      <td>Versatile convertible gown with elephant applique</td>\n",
       "      <td>JustKids/Baby024months/InfantGirls/FootiesRompers</td>\n",
       "      <td>https://www.saksfifthavenue.com/kissy-kissy-ba...</td>\n",
       "      <td>V-neckline\\nLong sleeves\\nFront snap closure\\n...</td>\n",
       "      <td>'appliqu':17 'babi':3A 'convert':10A,13 'cotto...</td>\n",
       "    </tr>\n",
       "  </tbody>\n",
       "</table>\n",
       "</div>"
      ],
      "text/plain": [
       "                 brand                                               name  \\\n",
       "0                 FILA                          Original Fitness Sneakers   \n",
       "1               CHANEL                                                HAT   \n",
       "2                Frame                             Petit Oval Buckle Belt   \n",
       "3  Lilly Pulitzer Kids  Little Gir's & Girl's Ariana One-Piece UPF 50+...   \n",
       "4          Kissy Kissy  Baby Girl's Endearing Elephants Pima Cotton Co...   \n",
       "\n",
       "                                         description  \\\n",
       "0  Vintage Fitness leather sneakers with logo pri...   \n",
       "1                                                NaN   \n",
       "2  A Timeless Leather Belt Crafted From Smooth Co...   \n",
       "3  Pretty ruffle sleeves and trim elevate essenti...   \n",
       "4  Versatile convertible gown with elephant applique   \n",
       "\n",
       "                                      brand_category  \\\n",
       "0                 TheMensStore/Shoes/Sneakers/LowTop   \n",
       "1                                            Unknown   \n",
       "2                                        Accessories   \n",
       "3  JustKids/Girls214/Girls/SwimwearCoverups,JustK...   \n",
       "4  JustKids/Baby024months/InfantGirls/FootiesRompers   \n",
       "\n",
       "                                 brand_canonical_url  \\\n",
       "0  https://www.saksfifthavenue.com/fila-original-...   \n",
       "1  https://www.saksfifthavenue.com/chanel-hat/pro...   \n",
       "2  https://frame-store.com/products/petit-oval-bu...   \n",
       "3  https://www.saksfifthavenue.com/lilly-pulitzer...   \n",
       "4  https://www.saksfifthavenue.com/kissy-kissy-ba...   \n",
       "\n",
       "                                             details  \\\n",
       "0  Leather/synthetic upper\\nLace-up closure\\nText...   \n",
       "1                                  WOOL TWEED & FELT   \n",
       "2                                                NaN   \n",
       "3  Scoopneck\\nAdjustable straps\\nFlutter sleeves\\...   \n",
       "4  V-neckline\\nLong sleeves\\nFront snap closure\\n...   \n",
       "\n",
       "                                                 tsv  \n",
       "0  'design':12 'fila':1A 'fit':3A,6 'leather':7 '...  \n",
       "1                               'chanel':1A 'hat':2A  \n",
       "2  'belt':5A,9 'buckl':4A,21 'cowhid':13 'craft':...  \n",
       "3  '50':14A 'allov':28 'ariana':9A 'color':27 'el...  \n",
       "4  'appliqu':17 'babi':3A 'convert':10A,13 'cotto...  "
      ]
     },
     "execution_count": 16,
     "metadata": {},
     "output_type": "execute_result"
    }
   ],
   "source": [
    "info = df\n",
    "info.head()"
   ]
  },
  {
   "cell_type": "code",
   "execution_count": 17,
   "metadata": {
    "scrolled": false
   },
   "outputs": [],
   "source": [
    "info.fillna(value='Unknown',inplace=True)"
   ]
  },
  {
   "cell_type": "code",
   "execution_count": null,
   "metadata": {},
   "outputs": [],
   "source": []
  },
  {
   "cell_type": "code",
   "execution_count": 18,
   "metadata": {
    "scrolled": true
   },
   "outputs": [],
   "source": [
    "regex = re.compile(r'[^\\w\\s\\'\\:]')\n",
    "a = info['brand']+' '+ info['name']+' '+info['description']+' '+info['brand_category']+' '+info['details']\n",
    "b = a.apply(lambda x: regex.sub(' ',x))\n",
    "info['combined'] = b\n",
    "info['brand_category'] = info['brand_category'].apply(lambda x: regex.sub(' ',x))"
   ]
  },
  {
   "cell_type": "code",
   "execution_count": 33,
   "metadata": {},
   "outputs": [],
   "source": [
    "regex_women = re.compile(r'(?i)\\b(woman|women|girls?|unisex|dress|dresses|heels?|sandals|skirts?|purse)\\b')"
   ]
  },
  {
   "cell_type": "code",
   "execution_count": 34,
   "metadata": {},
   "outputs": [],
   "source": [
    "for i in range(info.shape[0]):\n",
    "    string = info.loc[i,'combined']\n",
    "    if regex_women.search(string):\n",
    "        info.loc[i,'is_womens_clothing'] = 1\n"
   ]
  },
  {
   "cell_type": "code",
   "execution_count": null,
   "metadata": {},
   "outputs": [],
   "source": []
  },
  {
   "cell_type": "code",
   "execution_count": 35,
   "metadata": {},
   "outputs": [],
   "source": [
    "bottoms = r'(?i)\\b(pants?|jeans?|skirts?|shorts?|bottoms?|trousers?)\\b'\n",
    "one_piece = r'(?i)\\b(swimsuits?|bodysuits?|jumpsuits?|bodystockings?|overalls?|dress|dresses|one-piece|pajamas?)\\b'\n",
    "shoes = r'(?i)\\b(shoes?|heels?|sandals?|wedges?|boots?|uggs?|flats?|skates|flip-flops?|brogues?|skates?|jackboots?|sneakers?|slippers?)\\b'\n",
    "handbags = r'(?i)\\b(handbags?|purse|clutch|bags?|muffs?|wristlets?|baguettes?|totes?|backpacks?)\\b'\n",
    "scarf = r'(?i)\\b(scarf|scarves)\\b'\n",
    "\n",
    "\n",
    "regex_bottom = re.compile(bottoms)\n",
    "regex_one = re.compile(one_piece)\n",
    "regex_shoe = re.compile(shoes)\n",
    "regex_handbag = re.compile(handbags)\n",
    "regex_scarf = re.compile(scarf)\n"
   ]
  },
  {
   "cell_type": "code",
   "execution_count": 36,
   "metadata": {},
   "outputs": [],
   "source": [
    "def find_cat(df, col, idx_lst):\n",
    "    for i in idx_lst:\n",
    "        string = df.loc[i,col]\n",
    "        if regex_bottom.search(string):\n",
    "            df.loc[i,'product_category'] = 'bottom'\n",
    "        elif regex_one.search(string):\n",
    "            df.loc[i,'product_category'] = 'one piece'\n",
    "        elif regex_shoe.search(string):\n",
    "            df.loc[i,'product_category'] = 'shoes'\n",
    "        elif regex_handbag.search(string):\n",
    "            df.loc[i,'product_category'] = 'handbag'\n",
    "        elif regex_scarf.search(string):\n",
    "            df.loc[i,'product_category'] = 'scarf'\n",
    "        else:\n",
    "            df.loc[i,'product_category'] = 'other'\n",
    "    return df\n",
    "    "
   ]
  },
  {
   "cell_type": "code",
   "execution_count": 37,
   "metadata": {},
   "outputs": [],
   "source": [
    "# find category in 'name' column first\n",
    "all_idx = list(info.index)\n",
    "info = find_cat(info, 'name', all_idx)"
   ]
  },
  {
   "cell_type": "code",
   "execution_count": 38,
   "metadata": {},
   "outputs": [],
   "source": [
    "# find category in 'brand_category' column if the first search didn't return results\n",
    "brand_idx = list(info[info['product_category']=='other'].index)\n",
    "info = find_cat(info, 'brand_category', brand_idx)"
   ]
  },
  {
   "cell_type": "code",
   "execution_count": 39,
   "metadata": {},
   "outputs": [],
   "source": [
    "# find category in other columns if 'brand category' doesn't contain infomation\n",
    "other_idx = list(info[info['product_category']=='other'].index)\n",
    "info = find_cat(info, 'combined', other_idx)"
   ]
  },
  {
   "cell_type": "code",
   "execution_count": 40,
   "metadata": {},
   "outputs": [],
   "source": [
    "# for i in range(info.shape[0]):\n",
    "#     string = info.loc[i,'combined']\n",
    "#     if regex_bottom.search(string):\n",
    "#         info.loc[i,'product_category'] = 'bottom'\n",
    "#     elif regex_one.search(string):\n",
    "#         info.loc[i,'product_category'] = 'one piece'\n",
    "#     elif regex_shoe.search(string):\n",
    "#         info.loc[i,'product_category'] = 'shoes'\n",
    "#     elif regex_handbag.search(string):\n",
    "#         info.loc[i,'product_category'] = 'handbag'\n",
    "#     elif regex_scarf.search(string):\n",
    "#         info.loc[i,'product_category'] = 'scarf'\n",
    "#     else:\n",
    "#         info.loc[i,'product_category'] = 'other'"
   ]
  },
  {
   "cell_type": "code",
   "execution_count": 41,
   "metadata": {},
   "outputs": [
    {
     "data": {
      "text/plain": [
       "other        21934\n",
       "bottom        8973\n",
       "shoes         4495\n",
       "one piece     4181\n",
       "handbag       1791\n",
       "scarf          999\n",
       "Name: product_category, dtype: int64"
      ]
     },
     "execution_count": 41,
     "metadata": {},
     "output_type": "execute_result"
    }
   ],
   "source": [
    "info['product_category'].value_counts()"
   ]
  },
  {
   "cell_type": "code",
   "execution_count": 42,
   "metadata": {},
   "outputs": [],
   "source": [
    "colors = r'(?i)\\b(beige|black|blue|brown|burgundy|gold|gray|green|multi|navy|neutral|orange|pinks|purple|red|silver|teal|white|yellow)\\b'\n",
    "regex_color = re.compile(colors)\n",
    "regex_multi = re.compile(r'(?i)\\b(multi)\\b')"
   ]
  },
  {
   "cell_type": "code",
   "execution_count": 43,
   "metadata": {},
   "outputs": [],
   "source": [
    "for i in range(info.shape[0]):\n",
    "    string = info.loc[i,'combined']\n",
    "    if regex_multi.search(string):\n",
    "        info.loc[i,'colors'] = 'multi'\n",
    "        continue\n",
    "    if regex_color.search(string):\n",
    "        colors = regex_color.findall(string)\n",
    "        colors = [c.lower() for c in colors]\n",
    "        info.loc[i,'colors'] = colors[0]\n",
    "        if len(set(colors))>1:\n",
    "            info.loc[i,'colors'] = 'multi'\n",
    "    else:\n",
    "        info.loc[i,'colors'] = 'other'"
   ]
  },
  {
   "cell_type": "code",
   "execution_count": 44,
   "metadata": {},
   "outputs": [
    {
     "data": {
      "text/plain": [
       "other       34017\n",
       "multi        2901\n",
       "gold         1110\n",
       "black        1051\n",
       "white         788\n",
       "silver        726\n",
       "blue          461\n",
       "brown         280\n",
       "red           169\n",
       "purple        165\n",
       "green         155\n",
       "neutral       128\n",
       "navy          118\n",
       "gray           99\n",
       "orange         74\n",
       "yellow         69\n",
       "beige          43\n",
       "burgundy       14\n",
       "pinks           3\n",
       "teal            2\n",
       "Name: colors, dtype: int64"
      ]
     },
     "execution_count": 44,
     "metadata": {},
     "output_type": "execute_result"
    }
   ],
   "source": [
    "info['colors'].value_counts()"
   ]
  },
  {
   "cell_type": "markdown",
   "metadata": {},
   "source": [
    "note: info is the final dataframe contains the additional information"
   ]
  }
 ],
 "metadata": {
  "kernelspec": {
   "display_name": "Python 3",
   "language": "python",
   "name": "python3"
  },
  "language_info": {
   "codemirror_mode": {
    "name": "ipython",
    "version": 3
   },
   "file_extension": ".py",
   "mimetype": "text/x-python",
   "name": "python",
   "nbconvert_exporter": "python",
   "pygments_lexer": "ipython3",
   "version": "3.8.3"
  },
  "toc": {
   "base_numbering": 1,
   "nav_menu": {},
   "number_sections": true,
   "sideBar": true,
   "skip_h1_title": false,
   "title_cell": "Table of Contents",
   "title_sidebar": "Contents",
   "toc_cell": false,
   "toc_position": {},
   "toc_section_display": true,
   "toc_window_display": false
  },
  "varInspector": {
   "cols": {
    "lenName": 16,
    "lenType": 16,
    "lenVar": 40
   },
   "kernels_config": {
    "python": {
     "delete_cmd_postfix": "",
     "delete_cmd_prefix": "del ",
     "library": "var_list.py",
     "varRefreshCmd": "print(var_dic_list())"
    },
    "r": {
     "delete_cmd_postfix": ") ",
     "delete_cmd_prefix": "rm(",
     "library": "var_list.r",
     "varRefreshCmd": "cat(var_dic_list()) "
    }
   },
   "types_to_exclude": [
    "module",
    "function",
    "builtin_function_or_method",
    "instance",
    "_Feature"
   ],
   "window_display": false
  }
 },
 "nbformat": 4,
 "nbformat_minor": 2
}
